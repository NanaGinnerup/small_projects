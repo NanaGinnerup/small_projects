{
 "cells": [
  {
   "cell_type": "code",
   "execution_count": 20,
   "metadata": {},
   "outputs": [],
   "source": [
    "import numpy as np"
   ]
  },
  {
   "cell_type": "code",
   "execution_count": 23,
   "metadata": {},
   "outputs": [],
   "source": [
    "def loanPayment(loan_amount, apr, regular_monthly_payment, extra_monthly_payment=0):\n",
    "    ''' Calculates how long it takes to pay out a bank loan with a fixed monthly payment. '''\n",
    "    left = loan_amount\n",
    "    month = 0\n",
    "\n",
    "    total_interest = 0\n",
    "    while left > 0:\n",
    "        if month%3 == 0:\n",
    "            interest=left*apr/4\n",
    "            total_interest+=interest\n",
    "            left += interest\n",
    "        left -= regular_monthly_payment + extra_monthly_payment\n",
    "        month += 1\n",
    "    print(f'Time it takes to pay off: {month//12} year(s) {month%12} month(s).\\nIn total a interest of {round(total_interest, 2):,} DKK will be payed.')"
   ]
  },
  {
   "cell_type": "code",
   "execution_count": null,
   "metadata": {},
   "outputs": [],
   "source": [
    "loanPayment(\n",
    "    loan_amount=75000, \n",
    "    apr=0.042, \n",
    "    regular_monthly_payment=2100, \n",
    "    extra_monthly_payment=200\n",
    "    )"
   ]
  }
 ],
 "metadata": {
  "interpreter": {
   "hash": "8315554d2086cd2bb31392793f084dbe19be523833799f848e56fb54dc743946"
  },
  "kernelspec": {
   "display_name": "Python 3.8.7 64-bit",
   "language": "python",
   "name": "python3"
  },
  "language_info": {
   "codemirror_mode": {
    "name": "ipython",
    "version": 3
   },
   "file_extension": ".py",
   "mimetype": "text/x-python",
   "name": "python",
   "nbconvert_exporter": "python",
   "pygments_lexer": "ipython3",
   "version": "3.12.2"
  },
  "orig_nbformat": 4
 },
 "nbformat": 4,
 "nbformat_minor": 2
}
